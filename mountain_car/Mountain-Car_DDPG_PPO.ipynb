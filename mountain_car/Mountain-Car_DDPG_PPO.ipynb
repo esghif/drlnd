{
 "cells": [
  {
   "cell_type": "code",
   "execution_count": 12,
   "metadata": {},
   "outputs": [],
   "source": [
    "# render ai gym environment\n",
    "import gym\n",
    "import time\n",
    "\n",
    "import torch\n",
    "import torch.nn as nn\n",
    "import torch.nn.functional as F\n",
    "import torch.optim as optim"
   ]
  },
  {
   "cell_type": "code",
   "execution_count": 10,
   "metadata": {},
   "outputs": [
    {
     "name": "stdout",
     "output_type": "stream",
     "text": [
      "\u001b[33mWARN: gym.spaces.Box autodetected dtype as <class 'numpy.float32'>. Please provide explicit dtype.\u001b[0m\n",
      "\u001b[33mWARN: gym.spaces.Box autodetected dtype as <class 'numpy.float32'>. Please provide explicit dtype.\u001b[0m\n",
      "env.observation_space Box(2,)\n",
      "env.observation_space.shape (2,)\n",
      "env.observation_space.low [-1.2  -0.07]\n",
      "env.observation_space.high [0.6  0.07]\n",
      "env.action_space Box(1,)\n",
      "env.action_space.shape (1,)\n",
      "env.action_space.low [-1.]\n",
      "env.action_space.high [1.]\n",
      "env.reward_range (-inf, inf)\n"
     ]
    }
   ],
   "source": [
    "env = gym.make('MountainCarContinuous-v0')\n",
    "\n",
    "#print(dir(env))\n",
    "\n",
    "print('env.observation_space', env.observation_space)\n",
    "#print(dir(env.observation_space))\n",
    "print('env.observation_space.shape', env.observation_space.shape)\n",
    "print('env.observation_space.low', env.observation_space.low)\n",
    "print('env.observation_space.high', env.observation_space.high)\n",
    "\n",
    "print('env.action_space', env.action_space)\n",
    "#print(dir(env.action_space))\n",
    "print('env.action_space.shape', env.action_space.shape)\n",
    "print('env.action_space.low', env.action_space.low)\n",
    "print('env.action_space.high', env.action_space.high)\n",
    "\n",
    "\n",
    "\n",
    "print('env.reward_range', env.reward_range)\n"
   ]
  },
  {
   "cell_type": "code",
   "execution_count": null,
   "metadata": {},
   "outputs": [],
   "source": [
    "device = torch.device(\"cuda:0\" if torch.cuda.is_available() else \"cpu\")\n",
    "\n",
    "class Policy(nn.Module):\n",
    "\n",
    "    def __init__(self, state_size, action_size, action_low, action_high, phi_size):\n",
    "        super(Policy, self).__init__()\n",
    "        \n",
    "        self.state_size = state_size\n",
    "        self.action_size = action_size\n",
    "        self.action_low = np.expand_dims(action_low, 0)\n",
    "        self.action_high = np.expand_dims(action_high, 0)\n",
    "        self.phi_size = phi_size\n",
    "        self.hidden_size = 64\n",
    "        \n",
    "        self.noise_std = \n",
    "\n",
    "        self.fc1 = nn.Linear(self.state_size, self.hidden_size, bias=True)\n",
    "        self.fc2 = nn.Linear(self.hidden_size, self.phi_size, bias=True)\n",
    "        \n",
    "        self.actor = nn.Linear(self.phi_size, self.action_size, bias=True)\n",
    "        self.critic = nn.Linear(self.phi_size+self.action_size, 1, bias=True)\n",
    "       \n",
    "    def forward(self, state, action):\n",
    "    \n",
    "        hidden = F.relu(self.fc1(state))\n",
    "        phi = F.relu(self.fc2(hidden))\n",
    "        \n",
    "        _actor_mean = F.sigmoid(self.actor(phi)) * (self.action_high - self.action_low) + self.action_low\n",
    "        \n",
    "        _critic_out = self.critic(phi)\n",
    "        \n",
    "\n",
    "        return x"
   ]
  },
  {
   "cell_type": "code",
   "execution_count": null,
   "metadata": {},
   "outputs": [],
   "source": []
  },
  {
   "cell_type": "code",
   "execution_count": null,
   "metadata": {},
   "outputs": [],
   "source": [
    "env.close()"
   ]
  }
 ],
 "metadata": {
  "kernelspec": {
   "display_name": "drlnd",
   "language": "python",
   "name": "drlnd"
  },
  "language_info": {
   "codemirror_mode": {
    "name": "ipython",
    "version": 3
   },
   "file_extension": ".py",
   "mimetype": "text/x-python",
   "name": "python",
   "nbconvert_exporter": "python",
   "pygments_lexer": "ipython3",
   "version": "3.6.6"
  }
 },
 "nbformat": 4,
 "nbformat_minor": 2
}
