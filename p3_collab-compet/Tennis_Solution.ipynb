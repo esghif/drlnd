{
 "cells": [
  {
   "cell_type": "markdown",
   "metadata": {},
   "source": [
    "# Tennis Solution"
   ]
  },
  {
   "cell_type": "code",
   "execution_count": 1,
   "metadata": {},
   "outputs": [],
   "source": [
    "from unityagents import UnityEnvironment\n",
    "\n",
    "import random\n",
    "import torch\n",
    "import numpy as np\n",
    "from collections import deque\n",
    "import matplotlib.pyplot as plt\n",
    "%matplotlib inline\n",
    "\n",
    "from ddpg_agent import Agent"
   ]
  },
  {
   "cell_type": "code",
   "execution_count": 2,
   "metadata": {},
   "outputs": [
    {
     "name": "stderr",
     "output_type": "stream",
     "text": [
      "INFO:unityagents:\n",
      "'Academy' started successfully!\n",
      "Unity Academy name: Academy\n",
      "        Number of Brains: 1\n",
      "        Number of External Brains : 1\n",
      "        Lesson number : 0\n",
      "        Reset Parameters :\n",
      "\t\t\n",
      "Unity brain name: TennisBrain\n",
      "        Number of Visual Observations (per agent): 0\n",
      "        Vector Observation space type: continuous\n",
      "        Vector Observation space size (per agent): 8\n",
      "        Number of stacked Vector Observation: 3\n",
      "        Vector Action space type: continuous\n",
      "        Vector Action space size (per agent): 2\n",
      "        Vector Action descriptions: , \n"
     ]
    },
    {
     "name": "stdout",
     "output_type": "stream",
     "text": [
      "Number of agents: 2\n",
      "Size of each action: 2\n",
      "There are 2 agents. Each observes a state with length: 24\n"
     ]
    }
   ],
   "source": [
    "env = UnityEnvironment(file_name=\"Tennis_Linux/Tennis.x86_64\", no_graphics=True)\n",
    "\n",
    "# get the default brain\n",
    "brain_name = env.brain_names[0]\n",
    "brain = env.brains[brain_name]\n",
    "\n",
    "# reset the environment\n",
    "env_info = env.reset(train_mode=True)[brain_name]\n",
    "\n",
    "# number of agents \n",
    "num_agents = len(env_info.agents)\n",
    "print('Number of agents:', num_agents)\n",
    "\n",
    "# size of each action\n",
    "action_size = brain.vector_action_space_size\n",
    "print('Size of each action:', action_size)\n",
    "\n",
    "# examine the state space \n",
    "states = env_info.vector_observations\n",
    "state_size = states.shape[1]\n",
    "print('There are {} agents. Each observes a state with length: {}'.format(states.shape[0], state_size))\n"
   ]
  },
  {
   "cell_type": "code",
   "execution_count": 3,
   "metadata": {},
   "outputs": [],
   "source": [
    "agent = Agent(state_size=state_size, action_size=action_size, num_agents=num_agents, random_seed=10)"
   ]
  },
  {
   "cell_type": "code",
   "execution_count": 4,
   "metadata": {},
   "outputs": [
    {
     "name": "stdout",
     "output_type": "stream",
     "text": [
      "Episode 100\tEpisode Score: 0.000000\tAvg. Score: 0.008500\tt:   13\n",
      "Episode 200\tEpisode Score: 0.100000\tAvg. Score: 0.028200\tt:   33\n",
      "Episode 300\tEpisode Score: 0.000000\tAvg. Score: 0.042500\tt:   14\n",
      "Episode 400\tEpisode Score: 0.000000\tAvg. Score: 0.038400\tt:   14\n",
      "Episode 500\tEpisode Score: 0.000000\tAvg. Score: 0.053000\tt:   14\n",
      "Episode 600\tEpisode Score: 0.200000\tAvg. Score: 0.080400\tt:   71\n",
      "Episode 700\tEpisode Score: 0.100000\tAvg. Score: 0.075300\tt:   30\n",
      "Episode 800\tEpisode Score: 0.600000\tAvg. Score: 0.154400\tt:  254\n",
      "Episode 900\tEpisode Score: 0.100000\tAvg. Score: 0.231300\tt:   42\n",
      "Episode 999\tEpisode Score: 2.600000\tAvg. Score: 1.154700\tt: 1001\n",
      "Environment solved in 899 episodes!\tAverage Score: 1.15\n"
     ]
    },
    {
     "data": {
      "image/png": "[encoded data removed]",
      "text/plain": [
       "<Figure size 432x288 with 1 Axes>"
      ]
     },
     "metadata": {
      "needs_background": "light"
     },
     "output_type": "display_data"
    }
   ],
   "source": [
    "def state_norm(state):\n",
    "    norm = np.array([10.0, 1.0, 30.0, 5.0, 10.0, 5.0, 30.0, 5.0])\n",
    "    norm = np.concatenate([norm]*3)\n",
    "    state_norm = state / norm\n",
    "    return state_norm\n",
    "\n",
    "def sigma_schedule(eps, score):    \n",
    "    if eps < 1000:\n",
    "        sigma = 1. - eps * (.9/1000)    \n",
    "    else:\n",
    "        sigma = 0.1 - (eps-1000) * (.05/1000)\n",
    "    return sigma    \n",
    "\n",
    "def rep_schedule(eps, score):\n",
    "    if eps < 600:\n",
    "        rep = 20\n",
    "    elif eps < 1100:\n",
    "        rep = 10\n",
    "    else:\n",
    "        rep = 5\n",
    "\n",
    "    return rep\n",
    "    \n",
    "def ddpg(n_episodes=2000):\n",
    "    scores_deque = deque(maxlen=100)\n",
    "    scores = []\n",
    "    mean_scores = []\n",
    "    max_score = -np.Inf\n",
    "    mean_score = 0.0\n",
    "    for i_episode in range(1, n_episodes+1):\n",
    "        states = env.reset(train_mode=True)[brain_name].vector_observations\n",
    "        states = state_norm(states)\n",
    "        agent.reset(sigma_schedule(i_episode, mean_score))\n",
    "        agent_scores = np.zeros((num_agents))\n",
    "        t = 0\n",
    "        while True:\n",
    "            actions = agent.act(states)\n",
    "            env_info = env.step(actions)[brain_name]\n",
    "            next_states = env_info.vector_observations            \n",
    "            next_states = state_norm(next_states)\n",
    "            rewards = env_info.rewards\n",
    "            dones = env_info.local_done\n",
    "            #print(dones,rewards)\n",
    "            agent.step(states, actions, rewards, next_states, dones, rep_schedule(i_episode, mean_score))\n",
    "            states = next_states\n",
    "            agent_scores += np.array(rewards)\n",
    "            t += 1            \n",
    "            if all(dones):\n",
    "                break\n",
    "\n",
    "        score = np.max(agent_scores)\n",
    "        scores_deque.append(score)\n",
    "        mean_score = np.mean(scores_deque)\n",
    "        scores.append(score)\n",
    "        mean_scores.append(np.mean(scores_deque))\n",
    "        print('\\rEpisode {}\\tEpisode Score: {:.6f}\\tAvg. Score: {:.6f}\\tt: {:4}'.format(i_episode, score, mean_score, t), end=\"\")\n",
    "        if i_episode % 100 == 0:\n",
    "            torch.save(agent.actor_local.state_dict(), 'checkpoint_actor.pth')\n",
    "            torch.save(agent.critic_local.state_dict(), 'checkpoint_critic.pth')\n",
    "            print('\\rEpisode {}\\tEpisode Score: {:.6f}\\tAvg. Score: {:.6f}\\tt: {:4}'.format(i_episode, score, mean_score, t))\n",
    "        if np.mean(scores_deque)>=1.15:\n",
    "            print('\\nEnvironment solved in {:d} episodes!\\tAverage Score: {:.2f}'.format(i_episode-100, mean_score))\n",
    "            torch.save(agent.actor_local.state_dict(), 'checkpoint_actor.pth')\n",
    "            torch.save(agent.critic_local.state_dict(), 'checkpoint_critic.pth')\n",
    "            break    \n",
    "    return scores, mean_scores\n",
    "\n",
    "scores, mean_scores = ddpg(n_episodes=2000)\n",
    "\n",
    "fig = plt.figure()\n",
    "ax = fig.add_subplot(111)\n",
    "plt.plot(np.arange(1, len(scores)+1), scores)\n",
    "plt.plot(np.arange(1, len(scores)+1), mean_scores, 'r')\n",
    "plt.ylabel('Score')\n",
    "plt.xlabel('Episode #')\n",
    "plt.grid()\n",
    "plt.show()"
   ]
  },
  {
   "cell_type": "code",
   "execution_count": 5,
   "metadata": {},
   "outputs": [],
   "source": [
    "env.close()"
   ]
  },
  {
   "cell_type": "code",
   "execution_count": null,
   "metadata": {},
   "outputs": [],
   "source": []
  }
 ],
 "metadata": {
  "kernelspec": {
   "display_name": "drlnd",
   "language": "python",
   "name": "drlnd"
  },
  "language_info": {
   "codemirror_mode": {
    "name": "ipython",
    "version": 3
   },
   "file_extension": ".py",
   "mimetype": "text/x-python",
   "name": "python",
   "nbconvert_exporter": "python",
   "pygments_lexer": "ipython3",
   "version": "3.6.6"
  }
 },
 "nbformat": 4,
 "nbformat_minor": 2
}
