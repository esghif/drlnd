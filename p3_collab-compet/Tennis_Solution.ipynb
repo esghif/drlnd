{
 "cells": [
  {
   "cell_type": "markdown",
   "metadata": {},
   "source": [
    "# Tennis Solution"
   ]
  },
  {
   "cell_type": "code",
   "execution_count": 1,
   "metadata": {},
   "outputs": [],
   "source": [
    "from unityagents import UnityEnvironment\n",
    "\n",
    "import random\n",
    "import torch\n",
    "import numpy as np\n",
    "from collections import deque\n",
    "import matplotlib.pyplot as plt\n",
    "%matplotlib inline\n",
    "\n",
    "from ddpg_agent import Agent"
   ]
  },
  {
   "cell_type": "code",
   "execution_count": 2,
   "metadata": {},
   "outputs": [
    {
     "name": "stderr",
     "output_type": "stream",
     "text": [
      "INFO:unityagents:\n",
      "'Academy' started successfully!\n",
      "Unity Academy name: Academy\n",
      "        Number of Brains: 1\n",
      "        Number of External Brains : 1\n",
      "        Lesson number : 0\n",
      "        Reset Parameters :\n",
      "\t\t\n",
      "Unity brain name: TennisBrain\n",
      "        Number of Visual Observations (per agent): 0\n",
      "        Vector Observation space type: continuous\n",
      "        Vector Observation space size (per agent): 8\n",
      "        Number of stacked Vector Observation: 3\n",
      "        Vector Action space type: continuous\n",
      "        Vector Action space size (per agent): 2\n",
      "        Vector Action descriptions: , \n"
     ]
    },
    {
     "name": "stdout",
     "output_type": "stream",
     "text": [
      "Number of agents: 2\n",
      "Size of each action: 2\n",
      "There are 2 agents. Each observes a state with length: 24\n"
     ]
    }
   ],
   "source": [
    "env = UnityEnvironment(file_name=\"Tennis_Linux/Tennis.x86_64\", no_graphics=True)\n",
    "\n",
    "# get the default brain\n",
    "brain_name = env.brain_names[0]\n",
    "brain = env.brains[brain_name]\n",
    "\n",
    "# reset the environment\n",
    "env_info = env.reset(train_mode=True)[brain_name]\n",
    "\n",
    "# number of agents \n",
    "num_agents = len(env_info.agents)\n",
    "print('Number of agents:', num_agents)\n",
    "\n",
    "# size of each action\n",
    "action_size = brain.vector_action_space_size\n",
    "print('Size of each action:', action_size)\n",
    "\n",
    "# examine the state space \n",
    "states = env_info.vector_observations\n",
    "state_size = states.shape[1]\n",
    "print('There are {} agents. Each observes a state with length: {}'.format(states.shape[0], state_size))\n"
   ]
  },
  {
   "cell_type": "code",
   "execution_count": 3,
   "metadata": {},
   "outputs": [],
   "source": [
    "agent = Agent(state_size=state_size, action_size=action_size, num_agents=num_agents, random_seed=10)"
   ]
  },
  {
   "cell_type": "code",
   "execution_count": 4,
   "metadata": {},
   "outputs": [
    {
     "name": "stdout",
     "output_type": "stream",
     "text": [
      "Episode 1\tAverage Score: 0.000000\tScore: 0.000000\tt:   15\n",
      "Episode 2\tAverage Score: 0.050000\tScore: 0.100000\tt:   48\n",
      "Episode 3\tAverage Score: 0.033333\tScore: 0.000000\tt:   14\n",
      "Episode 4\tAverage Score: 0.035000\tScore: 0.000000\tt:   14\n",
      "Episode 5\tAverage Score: 0.020000\tScore: 0.000000\tt:   15\n",
      "Episode 6\tAverage Score: 0.026667\tScore: 0.000000\tt:   14\n",
      "Episode 7\tAverage Score: 0.014286\tScore: 0.000000\tt:   14\n",
      "Episode 8\tAverage Score: 0.012500\tScore: 0.000000\tt:   14\n",
      "Episode 9\tAverage Score: 0.011111\tScore: 0.000000\tt:   14\n",
      "Episode 10\tAverage Score: 0.010000\tScore: 0.000000\tt:   15\n",
      "Episode 11\tAverage Score: 0.019091\tScore: 0.000000\tt:   14\n",
      "Episode 12\tAverage Score: 0.018333\tScore: 0.000000\tt:   14\n",
      "Episode 13\tAverage Score: 0.017692\tScore: 0.000000\tt:   14\n",
      "Episode 14\tAverage Score: 0.017143\tScore: 0.000000\tt:   14\n",
      "Episode 15\tAverage Score: 0.016667\tScore: 0.000000\tt:   15\n",
      "Episode 16\tAverage Score: 0.016250\tScore: 0.000000\tt:   14\n",
      "Episode 17\tAverage Score: 0.015882\tScore: 0.000000\tt:   14\n",
      "Episode 18\tAverage Score: 0.015556\tScore: 0.000000\tt:   14\n",
      "Episode 19\tAverage Score: 0.015263\tScore: 0.000000\tt:   14\n",
      "Episode 20\tAverage Score: 0.015000\tScore: 0.000000\tt:   15\n",
      "Episode 21\tAverage Score: 0.004762\tScore: 0.000000\tt:   14\n",
      "Episode 22\tAverage Score: 0.004545\tScore: 0.000000\tt:   14\n",
      "Episode 23\tAverage Score: 0.004348\tScore: 0.000000\tt:   14\n",
      "Episode 24\tAverage Score: 0.004167\tScore: 0.000000\tt:   14\n",
      "Episode 25\tAverage Score: 0.004000\tScore: 0.000000\tt:   15\n",
      "Episode 26\tAverage Score: 0.003846\tScore: 0.000000\tt:   14\n",
      "Episode 27\tAverage Score: 0.003704\tScore: 0.000000\tt:   14\n",
      "Episode 28\tAverage Score: 0.003571\tScore: 0.000000\tt:   14\n",
      "Episode 29\tAverage Score: 0.003448\tScore: 0.000000\tt:   14\n",
      "Episode 30\tAverage Score: 0.003333\tScore: 0.000000\tt:   15\n",
      "Episode 31\tAverage Score: 0.003226\tScore: 0.000000\tt:   14\n",
      "Episode 32\tAverage Score: 0.003125\tScore: 0.000000\tt:   14\n",
      "Episode 33\tAverage Score: 0.003030\tScore: 0.000000\tt:   14\n",
      "Episode 34\tAverage Score: 0.002941\tScore: 0.000000\tt:   14\n",
      "Episode 35\tAverage Score: 0.002857\tScore: 0.000000\tt:   15\n",
      "Episode 36\tAverage Score: 0.002778\tScore: 0.000000\tt:   14\n",
      "Episode 37\tAverage Score: 0.002703\tScore: 0.000000\tt:   14\n",
      "Episode 38\tAverage Score: 0.002632\tScore: 0.000000\tt:   14\n",
      "Episode 39\tAverage Score: 0.002564\tScore: 0.000000\tt:   14\n",
      "Episode 40\tAverage Score: 0.002500\tScore: 0.000000\tt:   15\n",
      "Episode 41\tAverage Score: 0.002439\tScore: 0.000000\tt:   14\n",
      "Episode 42\tAverage Score: 0.002381\tScore: 0.000000\tt:   14\n",
      "Episode 43\tAverage Score: 0.002326\tScore: 0.000000\tt:   14\n",
      "Episode 44\tAverage Score: 0.002273\tScore: 0.000000\tt:   14\n",
      "Episode 45\tAverage Score: 0.002222\tScore: 0.000000\tt:   15\n",
      "Episode 46\tAverage Score: 0.002174\tScore: 0.000000\tt:   14\n",
      "Episode 47\tAverage Score: 0.002128\tScore: 0.000000\tt:   14\n",
      "Episode 48\tAverage Score: 0.002083\tScore: 0.000000\tt:   14\n",
      "Episode 49\tAverage Score: 0.002041\tScore: 0.000000\tt:   14\n",
      "Episode 50\tAverage Score: 0.002000\tScore: 0.000000\tt:   15\n",
      "Episode 51\tAverage Score: 0.001961\tScore: 0.000000\tt:   14\n",
      "Episode 52\tAverage Score: 0.001923\tScore: 0.000000\tt:   14\n",
      "Episode 53\tAverage Score: 0.001887\tScore: 0.000000\tt:   14\n",
      "Episode 54\tAverage Score: 0.001852\tScore: 0.000000\tt:   14\n",
      "Episode 55\tAverage Score: 0.001818\tScore: 0.000000\tt:   15\n",
      "Episode 56\tAverage Score: 0.001786\tScore: 0.000000\tt:   14\n",
      "Episode 57\tAverage Score: 0.001754\tScore: 0.000000\tt:   14\n",
      "Episode 58\tAverage Score: 0.001724\tScore: 0.000000\tt:   14\n",
      "Episode 59\tAverage Score: 0.001695\tScore: 0.000000\tt:   14\n",
      "Episode 60\tAverage Score: 0.001667\tScore: 0.000000\tt:   15\n",
      "Episode 61\tAverage Score: 0.001639\tScore: 0.000000\tt:   14\n",
      "Episode 62\tAverage Score: 0.001613\tScore: 0.000000\tt:   14\n",
      "Episode 63\tAverage Score: 0.001587\tScore: 0.000000\tt:   14\n",
      "Episode 64\tAverage Score: 0.001563\tScore: 0.000000\tt:   14\n",
      "Episode 65\tAverage Score: 0.001538\tScore: 0.000000\tt:   15\n",
      "Episode 66\tAverage Score: 0.001515\tScore: 0.000000\tt:   14\n",
      "Episode 67\tAverage Score: 0.001493\tScore: 0.000000\tt:   14\n",
      "Episode 68\tAverage Score: 0.001471\tScore: 0.000000\tt:   14\n",
      "Episode 69\tAverage Score: 0.001449\tScore: 0.000000\tt:   14\n",
      "Episode 70\tAverage Score: 0.001429\tScore: 0.000000\tt:   15\n",
      "Episode 71\tAverage Score: 0.001408\tScore: 0.000000\tt:   14\n",
      "Episode 72\tAverage Score: 0.001389\tScore: 0.000000\tt:   14\n",
      "Episode 73\tAverage Score: 0.001370\tScore: 0.000000\tt:   14\n",
      "Episode 74\tAverage Score: 0.001351\tScore: 0.000000\tt:   14\n",
      "Episode 75\tAverage Score: 0.001333\tScore: 0.000000\tt:   15\n",
      "Episode 76\tAverage Score: 0.001316\tScore: 0.000000\tt:   14\n",
      "Episode 77\tAverage Score: 0.001299\tScore: 0.000000\tt:   14\n",
      "Episode 78\tAverage Score: 0.001282\tScore: 0.000000\tt:   14\n",
      "Episode 79\tAverage Score: 0.001266\tScore: 0.000000\tt:   14\n",
      "Episode 80\tAverage Score: 0.001250\tScore: 0.000000\tt:   15\n",
      "Episode 81\tAverage Score: 0.001235\tScore: 0.000000\tt:   14\n",
      "Episode 82\tAverage Score: 0.001220\tScore: 0.000000\tt:   14\n",
      "Episode 83\tAverage Score: 0.001205\tScore: 0.000000\tt:   14\n",
      "Episode 84\tAverage Score: 0.001190\tScore: 0.000000\tt:   14\n",
      "Episode 85\tAverage Score: 0.001176\tScore: 0.000000\tt:   15\n",
      "Episode 86\tAverage Score: 0.001163\tScore: 0.000000\tt:   14\n",
      "Episode 87\tAverage Score: 0.001149\tScore: 0.000000\tt:   14\n",
      "Episode 88\tAverage Score: 0.001136\tScore: 0.000000\tt:   14\n",
      "Episode 89\tAverage Score: 0.001124\tScore: 0.000000\tt:   14\n",
      "Episode 90\tAverage Score: 0.001111\tScore: 0.000000\tt:   15\n",
      "Episode 91\tAverage Score: 0.001099\tScore: 0.000000\tt:   14\n",
      "Episode 92\tAverage Score: 0.001087\tScore: 0.000000\tt:   14\n",
      "Episode 93\tAverage Score: 0.001075\tScore: 0.000000\tt:   14\n",
      "Episode 94\tAverage Score: 0.001064\tScore: 0.000000\tt:   14\n",
      "Episode 95\tAverage Score: 0.001053\tScore: 0.000000\tt:   15\n",
      "Episode 96\tAverage Score: 0.001042\tScore: 0.000000\tt:   14\n",
      "Episode 97\tAverage Score: 0.001031\tScore: 0.000000\tt:   14\n",
      "Episode 98\tAverage Score: 0.001020\tScore: 0.000000\tt:   14\n",
      "Episode 99\tAverage Score: 0.001010\tScore: 0.000000\tt:   14\n",
      "Episode 100\tAverage Score: 0.001000\tScore: 0.000000\tt:   15\n"
     ]
    },
    {
     "data": {
      "image/png": "[encoded data removed]",
      "text/plain": [
       "<Figure size 432x288 with 1 Axes>"
      ]
     },
     "metadata": {
      "needs_background": "light"
     },
     "output_type": "display_data"
    }
   ],
   "source": [
    "def ddpg(n_episodes=2000):\n",
    "    scores_deque = deque(maxlen=100)\n",
    "    scores = []\n",
    "    mean_scores = []\n",
    "    max_score = -np.Inf\n",
    "    for i_episode in range(1, n_episodes+1):\n",
    "        states = env.reset(train_mode=True)[brain_name].vector_observations\n",
    "        agent.reset()\n",
    "        agent_scores = np.zeros((num_agents))\n",
    "        t = 0\n",
    "        while True:\n",
    "            actions = agent.act(states)\n",
    "            env_info = env.step(actions)[brain_name]\n",
    "            next_states = env_info.vector_observations\n",
    "            rewards = env_info.rewards\n",
    "            dones = env_info.local_done\n",
    "            agent.step(states, actions, rewards, next_states, dones, i_episode)\n",
    "            states = next_states\n",
    "            agent_scores += np.array(rewards)\n",
    "            t += 1            \n",
    "            if all(dones):\n",
    "                break\n",
    "\n",
    "        score = np.max(agent_scores)\n",
    "        scores_deque.append(score)\n",
    "        scores.append(score)\n",
    "        mean_scores.append(np.mean(scores_deque))\n",
    "        print('\\rEpisode {}\\Max Score: {:.6f}\\tScore: {:.6f}\\tt: {:4}'.format(i_episode, np.mean(scores_deque), score, t), end=\"\")\n",
    "        if i_episode % 100 == 0:\n",
    "            torch.save(agent.actor_local.state_dict(), 'checkpoint_actor.pth')\n",
    "            torch.save(agent.critic_local.state_dict(), 'checkpoint_critic.pth')\n",
    "        print('\\rEpisode {}\\tAverage Score: {:.2f}'.format(i_episode, np.mean(scores_deque)))\n",
    "        if np.mean(scores_deque)>=30.0 and i_episode > 150:\n",
    "            print('\\nEnvironment solved in {:d} episodes!\\tAverage Score: {:.2f}'.format(i_episode-100, np.mean(scores_deque)))\n",
    "            torch.save(agent.actor_local.state_dict(), 'checkpoint_actor.pth')\n",
    "            torch.save(agent.critic_local.state_dict(), 'checkpoint_critic.pth')\n",
    "            break    \n",
    "    return scores, mean_scores\n",
    "\n",
    "scores, mean_scores = ddpg(n_episodes=100)\n",
    "\n",
    "fig = plt.figure()\n",
    "ax = fig.add_subplot(111)\n",
    "plt.plot(np.arange(1, len(scores)+1), scores)\n",
    "plt.plot(np.arange(1, len(scores)+1), mean_scores, 'r')\n",
    "plt.ylabel('Score')\n",
    "plt.xlabel('Episode #')\n",
    "plt.grid()\n",
    "plt.show()"
   ]
  },
  {
   "cell_type": "code",
   "execution_count": 5,
   "metadata": {},
   "outputs": [],
   "source": [
    "env.close()"
   ]
  },
  {
   "cell_type": "code",
   "execution_count": null,
   "metadata": {},
   "outputs": [],
   "source": []
  }
 ],
 "metadata": {
  "kernelspec": {
   "display_name": "drlnd",
   "language": "python",
   "name": "drlnd"
  },
  "language_info": {
   "codemirror_mode": {
    "name": "ipython",
    "version": 3
   },
   "file_extension": ".py",
   "mimetype": "text/x-python",
   "name": "python",
   "nbconvert_exporter": "python",
   "pygments_lexer": "ipython3",
   "version": "3.6.6"
  }
 },
 "nbformat": 4,
 "nbformat_minor": 2
}
